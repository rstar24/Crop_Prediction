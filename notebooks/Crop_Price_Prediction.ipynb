{
 "cells": [
  {
   "cell_type": "markdown",
   "metadata": {},
   "source": [
    "# Crop Price Prediction Model\n",
    "* To predict the price of the various crops found across India with help of the data provided"
   ]
  },
  {
   "cell_type": "code",
   "execution_count": 2,
   "metadata": {},
   "outputs": [],
   "source": [
    "import numpy as np\n",
    "import pandas as pd\n",
    "import yfinance as yf\n",
    "import datetime as dt\n",
    "import matplotlib.pyplot as plt\n",
    "import math"
   ]
  },
  {
   "cell_type": "code",
   "execution_count": 28,
   "metadata": {},
   "outputs": [
    {
     "name": "stderr",
     "output_type": "stream",
     "text": [
      "[*********************100%%**********************]  1 of 1 completed"
     ]
    },
    {
     "name": "stdout",
     "output_type": "stream",
     "text": [
      "                  Open\n",
      "Date                  \n",
      "2018-04-02   51.381001\n",
      "2018-04-03   50.807499\n",
      "2018-04-04   49.911499\n",
      "2018-04-05   52.319500\n",
      "2018-04-06   51.154999\n",
      "...                ...\n",
      "2023-03-27  104.620003\n",
      "2023-03-28  102.440002\n",
      "2023-03-29  102.279999\n",
      "2023-03-30  100.910004\n",
      "2023-03-31  101.300003\n",
      "\n",
      "[1260 rows x 1 columns]\n"
     ]
    },
    {
     "name": "stderr",
     "output_type": "stream",
     "text": [
      "\n"
     ]
    }
   ],
   "source": [
    "#the start and end date\n",
    "start_date = dt.datetime(2018,4,1)\n",
    "end_date = dt.datetime(2023,4,1)\n",
    "\n",
    "#loading from yahoo finance\n",
    "data = yf.download(\"GOOGL\",start_date, end_date)\n",
    "data = data.drop(['Volume','Adj Close','Low','Close','High'], axis=1)\n",
    "data.to_csv(\"Wheat.csv\")\n",
    "new = data\n",
    "print(new)\n",
    "# data['Rain Fall'] =  100\n",
    "# data.to_csv(\"Wheat.csv\")\n",
    "\n"
   ]
  }
 ],
 "metadata": {
  "kernelspec": {
   "display_name": "Python 3",
   "language": "python",
   "name": "python3"
  },
  "language_info": {
   "codemirror_mode": {
    "name": "ipython",
    "version": 3
   },
   "file_extension": ".py",
   "mimetype": "text/x-python",
   "name": "python",
   "nbconvert_exporter": "python",
   "pygments_lexer": "ipython3",
   "version": "3.11.3"
  }
 },
 "nbformat": 4,
 "nbformat_minor": 2
}
